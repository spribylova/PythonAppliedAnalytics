{
  "nbformat": 4,
  "nbformat_minor": 0,
  "metadata": {
    "colab": {
      "provenance": [],
      "collapsed_sections": []
    },
    "kernelspec": {
      "name": "python3",
      "display_name": "Python 3"
    },
    "language_info": {
      "name": "python"
    }
  },
  "cells": [
    {
      "cell_type": "code",
      "execution_count": 1,
      "metadata": {
        "colab": {
          "base_uri": "https://localhost:8080/"
        },
        "id": "H2WVkXHudd5F",
        "outputId": "76d8bd0d-818b-4bc2-9ac2-ae3ccc73ee94"
      },
      "outputs": [
        {
          "output_type": "stream",
          "name": "stdout",
          "text": [
            "Looking in indexes: https://pypi.org/simple, https://us-python.pkg.dev/colab-wheels/public/simple/\n",
            "Requirement already satisfied: scikit-learn in /usr/local/lib/python3.7/dist-packages (1.0.2)\n",
            "Requirement already satisfied: joblib>=0.11 in /usr/local/lib/python3.7/dist-packages (from scikit-learn) (1.2.0)\n",
            "Requirement already satisfied: threadpoolctl>=2.0.0 in /usr/local/lib/python3.7/dist-packages (from scikit-learn) (3.1.0)\n",
            "Requirement already satisfied: numpy>=1.14.6 in /usr/local/lib/python3.7/dist-packages (from scikit-learn) (1.21.6)\n",
            "Requirement already satisfied: scipy>=1.1.0 in /usr/local/lib/python3.7/dist-packages (from scikit-learn) (1.7.3)\n"
          ]
        }
      ],
      "source": [
        "pip install scikit-learn"
      ]
    },
    {
      "cell_type": "code",
      "source": [
        "# import the needed libraries\n",
        "\n",
        "import sklearn\n",
        "from numpy import mean\n",
        "from numpy import std\n",
        "import numpy as np\n",
        "from sklearn.datasets import make_classification\n",
        "from sklearn.model_selection import cross_val_score\n",
        "from sklearn.model_selection import RepeatedStratifiedKFold\n",
        "from sklearn.linear_model import LogisticRegression\n",
        "from sklearn.pipeline import Pipeline\n",
        "from sklearn.decomposition import PCA\n",
        "from sklearn.datasets import load_digits\n",
        "from sklearn.decomposition import KernelPCA\n",
        "from matplotlib import pyplot as plt"
      ],
      "metadata": {
        "id": "CuWLWa_yd-EH"
      },
      "execution_count": 3,
      "outputs": []
    },
    {
      "cell_type": "code",
      "source": [
        "# define the random dataset\n",
        "\n",
        "X, y = make_classification(\n",
        "    n_samples=1000, #  number of samples, default is 100\n",
        "    n_features=20, # total number of features, default is 20\n",
        "    n_informative=10, # number of informative features, default is 2\n",
        "    n_redundant=10, # number of redundant features, default is 2\n",
        "    random_state=7) \n",
        "\n",
        "# summarize the dataset\n",
        "\n",
        "print(X.shape, y.shape)"
      ],
      "metadata": {
        "colab": {
          "base_uri": "https://localhost:8080/"
        },
        "id": "FuhTUx3id-Gw",
        "outputId": "14b5256a-cb07-4433-e59a-e16ec059b33a"
      },
      "execution_count": 31,
      "outputs": [
        {
          "output_type": "stream",
          "name": "stdout",
          "text": [
            "(1000, 20) (1000,)\n"
          ]
        }
      ]
    },
    {
      "cell_type": "code",
      "source": [
        "# select so many features in PCA, so that we explain 70-80% information to avoid overfitting\n",
        "# only 4 or 5 features out of 20 should explain 77.5 - 84% information \n",
        "\n",
        "# define dataset\n",
        "X, y = make_classification(n_samples=1000, n_features=20, n_informative=10, n_redundant=10, random_state=7)\n",
        "\n",
        "pca = PCA()\n",
        "pca.fit(X)\n",
        "PCA()\n",
        "print(pca.explained_variance_) # total variance explained by model, can be higher than 1, higher the better model\n",
        "print(pca.explained_variance_ratio_)\n",
        "print(pca.explained_variance_ratio_.cumsum())\n",
        "print(pca.singular_values_) # singular values are related to the eigenvalues of covariance matrix via λi=s2i/(n−1)"
      ],
      "metadata": {
        "colab": {
          "base_uri": "https://localhost:8080/"
        },
        "id": "1vsJUFSPKSIL",
        "outputId": "ddd9cff0-1e30-4159-e232-173a9fea0bd1"
      },
      "execution_count": 205,
      "outputs": [
        {
          "output_type": "stream",
          "name": "stdout",
          "text": [
            "[6.11209596e+01 3.44345008e+01 2.52107480e+01 1.81653612e+01\n",
            " 1.16769951e+01 9.89207158e+00 7.49852815e+00 4.74980726e+00\n",
            " 4.00581133e+00 2.53871567e+00 1.68055924e-30 1.52100900e-30\n",
            " 9.83849396e-31 5.79688578e-31 3.84137315e-31 3.77585296e-31\n",
            " 1.99841578e-31 1.69839711e-31 1.26769671e-31 8.26394006e-32]\n",
            "[3.40898918e-01 1.92056606e-01 1.40611613e-01 1.01316341e-01\n",
            " 6.51278220e-02 5.51725058e-02 4.18226439e-02 2.64917986e-02\n",
            " 2.23422007e-02 1.41595523e-02 9.37323023e-33 8.48334721e-33\n",
            " 5.48736794e-33 3.23318237e-33 2.14250555e-33 2.10596201e-33\n",
            " 1.11460583e-33 9.47271997e-34 7.07051129e-34 4.60916883e-34]\n",
            "[0.34089892 0.53295552 0.67356714 0.77488348 0.8400113  0.8951838\n",
            " 0.93700645 0.96349825 0.98584045 1.         1.         1.\n",
            " 1.         1.         1.         1.         1.         1.\n",
            " 1.         1.        ]\n",
            "[2.47102891e+02 1.85472549e+02 1.58699519e+02 1.34711528e+02\n",
            " 1.08006102e+02 9.94091521e+01 8.65507344e+01 6.88843774e+01\n",
            " 6.32598255e+01 5.03604702e+01 4.09741221e-14 3.89806105e-14\n",
            " 3.13506865e-14 2.40646814e-14 1.95896191e-14 1.94218359e-14\n",
            " 1.41294634e-14 1.30257388e-14 1.12535728e-14 9.08607513e-15]\n"
          ]
        }
      ]
    },
    {
      "cell_type": "code",
      "source": [
        "# select only 4 features for PCA\n",
        "# only 4 features are generated out of 20 and based on variance ration the first principal component has more impact than second principal component\n",
        "# define dataset\n",
        "X, y = make_classification(n_samples=1000, n_features=20, n_informative=10, n_redundant=10, random_state=7)\n",
        "\n",
        "pca4 = PCA(n_components=4, svd_solver =\"randomized\")\n",
        "pca4.fit(X)\n",
        "PCA(n_components=4)\n",
        "print(pca4.explained_variance_) # total variance explained by model, can be higher than 1, higher the better model\n",
        "print(pca4.explained_variance_ratio_)\n",
        "print(pca4.explained_variance_ratio_.cumsum())\n",
        "print(pca4.singular_values_) # singular values are related to the eigenvalues of covariance matrix via λi=s2i/(n−1)"
      ],
      "metadata": {
        "colab": {
          "base_uri": "https://localhost:8080/"
        },
        "id": "MJCZTxIKN3q4",
        "outputId": "7db55ecb-3e11-4260-d896-a0173acb4eb1"
      },
      "execution_count": 166,
      "outputs": [
        {
          "output_type": "stream",
          "name": "stdout",
          "text": [
            "[61.12095959 34.43450078 25.21074797 18.16536121]\n",
            "[0.34089892 0.19205661 0.14061161 0.10131634]\n",
            "[0.34089892 0.53295552 0.67356714 0.77488348]\n",
            "[247.10289077 185.47254858 158.69951865 134.71152828]\n"
          ]
        }
      ]
    },
    {
      "cell_type": "code",
      "source": [
        "# define dataset\n",
        "X, y = make_classification(n_samples=1000, n_features=20, n_informative=10, n_redundant=10, random_state=7)\n",
        "\n",
        "fig = plt.figure(figsize=(16, 3))\n",
        "ax1 = fig.add_subplot(1, 3, 1)\n",
        "ax2 = fig.add_subplot(1, 3, 2)\n",
        "ax3 = fig.add_subplot(1, 3, 3)\n",
        "\n",
        "ax1.plot(pca4.explained_variance_, label='variance', color=\"silver\")\n",
        "ax2.plot(pca4.explained_variance_ratio_, label='variance ratio', color=\"tan\")\n",
        "ax3.plot(pca4.singular_values_, label='singular values', color=\"black\")\n",
        "\n",
        "ax1.set_xlabel('x scale')\n",
        "ax1.set_ylabel('variance')\n",
        "ax1.set_title('4 PCA variance')\n",
        "ax1.legend()\n",
        "\n",
        "ax2.set_xlabel('x scale')\n",
        "ax2.set_ylabel('variance ratio')\n",
        "ax2.set_title('4 PCA variance ratio')\n",
        "ax2.legend()\n",
        "\n",
        "ax3.set_xlabel('x scale')\n",
        "ax3.set_ylabel('singular values')\n",
        "ax3.set_title('4 PCA singular values')\n",
        "ax3.legend()\n",
        "\n",
        "plt.show()"
      ],
      "metadata": {
        "colab": {
          "base_uri": "https://localhost:8080/",
          "height": 241
        },
        "id": "wVum0g9Qyo4S",
        "outputId": "92f9c421-dc8f-4a41-a17d-f4c770a0d3f2"
      },
      "execution_count": 167,
      "outputs": [
        {
          "output_type": "display_data",
          "data": {
            "text/plain": [
              "<Figure size 1152x216 with 3 Axes>"
            ],
            "image/png": "[encoded data removed]"
          },
          "metadata": {
            "needs_background": "light"
          }
        }
      ]
    },
    {
      "cell_type": "code",
      "source": [
        "# mle has selected automatically number of features for our data sample \n",
        "# for random dataset mle selected 10, so we'd need about 10 components to retain 90% of the variance \n",
        "# for fetch_lfw_people dataset with 2900 features mle does not work well\n",
        "# cumulative sum - PC1 explains 34%, PC1 and PC2 explain 53%, PC1, PC2 and PC3 explain 67%, etc all the way up to 100% explained by all 10 principal components.\n",
        "# mle is overfitting\n",
        "\n",
        "# define dataset\n",
        "X, y = make_classification(n_samples=1000, n_features=20, n_informative=10, n_redundant=10, random_state=7)\n",
        "\n",
        "\n",
        "pcamle = PCA(n_components = \"mle\", svd_solver =\"full\") # mle stands for automatic dimensionality choice, pca is used as step later\n",
        "pcamle.fit_transform(X)\n",
        "print(pcamle.explained_variance_)\n",
        "print(pcamle.explained_variance_ratio_)\n",
        "print(pcamle.explained_variance_ratio_.cumsum())\n",
        "print(pcamle.singular_values_)"
      ],
      "metadata": {
        "colab": {
          "base_uri": "https://localhost:8080/"
        },
        "id": "FXtTz4nxSE2_",
        "outputId": "f54d1dc4-cebd-4d4b-ef1e-ecf03f0c7092"
      },
      "execution_count": 168,
      "outputs": [
        {
          "output_type": "stream",
          "name": "stdout",
          "text": [
            "[61.12095959 34.43450078 25.21074797 18.16536121 11.67699506  9.89207158\n",
            "  7.49852815  4.74980726  4.00581133  2.53871567]\n",
            "[0.34089892 0.19205661 0.14061161 0.10131634 0.06512782 0.05517251\n",
            " 0.04182264 0.0264918  0.0223422  0.01415955]\n",
            "[0.34089892 0.53295552 0.67356714 0.77488348 0.8400113  0.8951838\n",
            " 0.93700645 0.96349825 0.98584045 1.        ]\n",
            "[247.10289077 185.47254858 158.69951865 134.71152828 108.00610197\n",
            "  99.40915205  86.55073436  68.88437744  63.25982547  50.3604702 ]\n"
          ]
        }
      ]
    },
    {
      "cell_type": "code",
      "source": [
        "# define dataset\n",
        "\n",
        "# X, y = sklearn.datasets.fetch_lfw_people(return_X_y=True)\n",
        "X, y = make_classification(n_samples=1000, n_features=20, n_informative=10, n_redundant=10, random_state=7)\n",
        "\n",
        "fig = plt.figure(figsize=(16, 3))\n",
        "ax1 = fig.add_subplot(1, 3, 1)\n",
        "ax2 = fig.add_subplot(1, 3, 2)\n",
        "ax3 = fig.add_subplot(1, 3, 3)\n",
        "\n",
        "ax1.plot(pcamle.explained_variance_, label='variance', color=\"silver\")\n",
        "ax2.plot(pcamle.explained_variance_ratio_, label='variance ratio', color=\"tan\")\n",
        "ax3.plot(pcamle.singular_values_, label='singular values', color=\"black\")\n",
        "\n",
        "ax1.set_xlabel('x scale')\n",
        "ax1.set_ylabel('variance')\n",
        "ax1.set_title('MLE PCA variance')\n",
        "ax1.legend()\n",
        "\n",
        "ax2.set_xlabel('x scale')\n",
        "ax2.set_ylabel('variance ratio')\n",
        "ax2.set_title('MLE PCA variance ratio')\n",
        "ax2.legend()\n",
        "\n",
        "ax3.set_xlabel('x scale')\n",
        "ax3.set_ylabel('singular values')\n",
        "ax3.set_title('MLE PCA singular values')\n",
        "ax3.legend()\n",
        "\n",
        "plt.show()"
      ],
      "metadata": {
        "colab": {
          "base_uri": "https://localhost:8080/",
          "height": 241
        },
        "id": "nL2bDihly9i0",
        "outputId": "9c1528d6-684c-4d28-f57c-401fc743818a"
      },
      "execution_count": 185,
      "outputs": [
        {
          "output_type": "display_data",
          "data": {
            "text/plain": [
              "<Figure size 1152x216 with 3 Axes>"
            ],
            "image/png": "[encoded data removed]"
          },
          "metadata": {
            "needs_background": "light"
          }
        }
      ]
    },
    {
      "cell_type": "code",
      "source": [
        "# print eigenvectors, higher the number, higher the importance\n",
        "print(abs( pca4.components_ ))"
      ],
      "metadata": {
        "colab": {
          "base_uri": "https://localhost:8080/"
        },
        "id": "XwLZC5gseoC6",
        "outputId": "63159105-1436-47ce-ffe5-3067229d2260"
      },
      "execution_count": 204,
      "outputs": [
        {
          "output_type": "stream",
          "name": "stdout",
          "text": [
            "[[0.05066492 0.14766907 0.0216404  0.47059144 0.0386959  0.32999151\n",
            "  0.23428329 0.07611129 0.07248979 0.08817398 0.10508724 0.28333493\n",
            "  0.12270876 0.19630055 0.33842973 0.49929036 0.0575997  0.14178668\n",
            "  0.06617724 0.18182412]\n",
            " [0.21796152 0.24837002 0.10364418 0.01506274 0.28600193 0.22637386\n",
            "  0.36603144 0.07988956 0.46225593 0.09073186 0.10167718 0.17383909\n",
            "  0.05715123 0.03754531 0.34564107 0.09525623 0.29350637 0.33008571\n",
            "  0.0913769  0.08539152]\n",
            " [0.14100258 0.34592716 0.07194228 0.16637327 0.26843155 0.51150323\n",
            "  0.02110241 0.29786047 0.17317317 0.1937421  0.07557368 0.41352009\n",
            "  0.14974289 0.08390217 0.14213589 0.26582719 0.12408727 0.0150859\n",
            "  0.14563915 0.05778662]\n",
            " [0.29958699 0.2477217  0.35872884 0.39805516 0.06847234 0.12925803\n",
            "  0.28858058 0.16487363 0.38942807 0.10069735 0.21181154 0.17557357\n",
            "  0.06576801 0.05834443 0.29852764 0.10263667 0.05107161 0.16897979\n",
            "  0.14764298 0.17905667]]\n"
          ]
        }
      ]
    },
    {
      "cell_type": "code",
      "source": [
        "# feature 4 and feature 16 is the most important for PCA1\n",
        "# feature 9 is the most important for PCA2\n",
        "# feature 6 is the most important for PCA3\n",
        "plt.matshow(abs(pca4.components_),cmap='gray')\n",
        "plt.yticks([0,1,2,3],['1st Component, 34%','2nd Component, 19%','3rd Component, 14%','4th Component, 11%'],fontsize=10)\n",
        "plt.xticks([0,1,2,3,4,5,6,7,8,9,10,11,12,13,14,15,16,17,18,19],\n",
        "           ['V1','V2','V3','V4','V5','V6','V7','V8','V9','V10','V11','V12','V13','V14','V15','V16','V17','V18', 'V19','V20'],fontsize=10)\n",
        "plt.colorbar()\n",
        "plt.tight_layout()\n",
        "plt.show()"
      ],
      "metadata": {
        "colab": {
          "base_uri": "https://localhost:8080/",
          "height": 263
        },
        "id": "FprKEsmpbBVK",
        "outputId": "976d299d-272d-49fc-eacf-5a0bb1bc3452"
      },
      "execution_count": 201,
      "outputs": [
        {
          "output_type": "stream",
          "name": "stderr",
          "text": [
            "/usr/local/lib/python3.7/dist-packages/ipykernel_launcher.py:6: UserWarning: This figure includes Axes that are not compatible with tight_layout, so results might be incorrect.\n",
            "  \n"
          ]
        },
        {
          "output_type": "display_data",
          "data": {
            "text/plain": [
              "<Figure size 1152x230.4 with 2 Axes>"
            ],
            "image/png": "[encoded data removed]"
          },
          "metadata": {
            "needs_background": "light"
          }
        }
      ]
    },
    {
      "cell_type": "code",
      "source": [
        "# PCA and logistic regression\n",
        "# the total variance explained by all components should be between 70% to 80% variance, we use 4 features out of 20\n",
        "\n",
        "# define dataset\n",
        "X, y = make_classification(n_samples=1000, n_features=20, n_informative=10, n_redundant=10, random_state=7)\n",
        "\n",
        "# do PCA analysis and logistic regression as input for model \n",
        "steps = [('pca4', PCA(n_components=4)), ('m', LogisticRegression())] # set up number of components, m stands for multinomial logistic regression\n",
        "\n",
        "# define the model\n",
        "model = Pipeline(steps=steps)\n",
        "\n",
        "# evaluate model\n",
        "cv = RepeatedStratifiedKFold(n_splits=4, n_repeats=3, random_state=1)\n",
        "n_scores = cross_val_score(model, X, y, scoring='accuracy', cv=cv, n_jobs=-1)\n",
        "\n",
        "# report performance\n",
        "print('Accuracy: %.3f (%.3f)' % (mean(n_scores), std(n_scores)))"
      ],
      "metadata": {
        "colab": {
          "base_uri": "https://localhost:8080/"
        },
        "id": "7DjxZQ2V4fP2",
        "outputId": "9ddbf37e-d7ea-437c-9cc8-0b85a67c9da9"
      },
      "execution_count": 202,
      "outputs": [
        {
          "output_type": "stream",
          "name": "stdout",
          "text": [
            "Accuracy: 0.811 (0.018)\n"
          ]
        }
      ]
    },
    {
      "cell_type": "code",
      "source": [],
      "metadata": {
        "id": "gMCK5e0XV8U_"
      },
      "execution_count": null,
      "outputs": []
    },
    {
      "cell_type": "code",
      "source": [
        "# Logistic regression\n",
        "# the total variance explained by all components should be between 70% to 80% variance\n",
        "\n",
        "# define dataset\n",
        "X, y = make_classification(n_samples=1000, n_features=20, n_informative=10, n_redundant=10, random_state=7)\n",
        "\n",
        "# define the model\n",
        "model = LogisticRegression()\n",
        "\n",
        "# evaluate model\n",
        "cv = RepeatedStratifiedKFold(n_splits=10, n_repeats=3, random_state=1)\n",
        "n_scores = cross_val_score(model, X, y, scoring='accuracy', cv=cv, n_jobs=-1)\n",
        "\n",
        "# report performance\n",
        "print('Accuracy: %.3f (%.3f)' % (mean(n_scores), std(n_scores)))"
      ],
      "metadata": {
        "colab": {
          "base_uri": "https://localhost:8080/"
        },
        "id": "TiYnIwGueVLR",
        "outputId": "42b05e70-d4a5-4f04-b9e9-89e141bc17a9"
      },
      "execution_count": 172,
      "outputs": [
        {
          "output_type": "stream",
          "name": "stdout",
          "text": [
            "Accuracy: 0.824 (0.034)\n"
          ]
        }
      ]
    },
    {
      "cell_type": "code",
      "source": [
        "# SVD and logistic regression\n",
        "# the total variance explained by all components should be between 70% to 80% variance\n",
        "\n",
        "from sklearn.decomposition import TruncatedSVD\n",
        "\n",
        "# define dataset\n",
        "X, y = make_classification(n_samples=1000, n_features=20, n_informative=10, n_redundant=10, random_state=7)\n",
        "\n",
        "# define the pipeline\n",
        "steps = [('svd', TruncatedSVD(n_components=10)), ('m', LogisticRegression())]\n",
        "model = Pipeline(steps=steps)\n",
        "\n",
        "# evaluate model\n",
        "cv = RepeatedStratifiedKFold(n_splits=10, n_repeats=3, random_state=1)\n",
        "n_scores = cross_val_score(model, X, y, scoring='accuracy', cv=cv, n_jobs=-1)\n",
        "\n",
        "# report performance\n",
        "print('Accuracy: %.3f (%.3f)' % (mean(n_scores), std(n_scores)))"
      ],
      "metadata": {
        "colab": {
          "base_uri": "https://localhost:8080/"
        },
        "id": "u_-1nXDqeVT5",
        "outputId": "40294f82-cb6f-48d6-c34d-daf8bdf42dca"
      },
      "execution_count": 203,
      "outputs": [
        {
          "output_type": "stream",
          "name": "stdout",
          "text": [
            "Accuracy: 0.824 (0.034)\n"
          ]
        }
      ]
    },
    {
      "cell_type": "code",
      "source": [
        "# LDA and logistic regression\n",
        "# the total variance explained by all components should be between 70% to 80% variance\n",
        "\n",
        "from sklearn.discriminant_analysis import LinearDiscriminantAnalysis\n",
        "\n",
        "# define dataset\n",
        "X, y = make_classification(n_samples=1000, n_features=20, n_informative=10, n_redundant=10, random_state=7)\n",
        "\n",
        "# define the pipeline\n",
        "steps = [('lda', LinearDiscriminantAnalysis(n_components=1)), ('m', LogisticRegression())]\n",
        "model = Pipeline(steps=steps)\n",
        "\n",
        "# evaluate model\n",
        "cv = RepeatedStratifiedKFold(n_splits=10, n_repeats=3, random_state=1)\n",
        "n_scores = cross_val_score(model, X, y, scoring='accuracy', cv=cv, n_jobs=-1)\n",
        "\n",
        "# report performance\n",
        "print('Accuracy: %.3f (%.3f)' % (mean(n_scores), std(n_scores)))"
      ],
      "metadata": {
        "colab": {
          "base_uri": "https://localhost:8080/"
        },
        "id": "3yq9TG18eVWZ",
        "outputId": "c6ca0c41-866b-4958-af40-73614dc51600"
      },
      "execution_count": 146,
      "outputs": [
        {
          "output_type": "stream",
          "name": "stdout",
          "text": [
            "Accuracy: 0.825 (0.034)\n"
          ]
        }
      ]
    },
    {
      "cell_type": "code",
      "source": [
        "# Isomap and logistic regression\n",
        "# the total variance explained by all components should be between 70% to 80% variance\n",
        "\n",
        "from sklearn.manifold import Isomap\n",
        "\n",
        "# define dataset\n",
        "X, y = make_classification(n_samples=1000, n_features=20, n_informative=10, n_redundant=10, random_state=7)\n",
        "\n",
        "# define the pipeline\n",
        "steps = [('iso', Isomap(n_components=10)), ('m', LogisticRegression())]\n",
        "model = Pipeline(steps=steps)\n",
        "\n",
        "# evaluate model\n",
        "cv = RepeatedStratifiedKFold(n_splits=10, n_repeats=3, random_state=1)\n",
        "n_scores = cross_val_score(model, X, y, scoring='accuracy', cv=cv, n_jobs=-1)\n",
        "\n",
        "# report performance\n",
        "print('Accuracy: %.3f (%.3f)' % (mean(n_scores), std(n_scores)))"
      ],
      "metadata": {
        "colab": {
          "base_uri": "https://localhost:8080/"
        },
        "id": "1jbvrk8ffOW0",
        "outputId": "0782ed81-eeb3-4a5b-de4c-de641f4dce8d"
      },
      "execution_count": 148,
      "outputs": [
        {
          "output_type": "stream",
          "name": "stdout",
          "text": [
            "Accuracy: 0.888 (0.029)\n"
          ]
        }
      ]
    },
    {
      "cell_type": "code",
      "source": [
        "# LLE and logistic regression\n",
        "# the total variance explained by all components should be between 70% to 80% variance\n",
        "\n",
        "from sklearn.manifold import LocallyLinearEmbedding\n",
        "\n",
        "# define dataset\n",
        "X, y = make_classification(n_samples=1000, n_features=20, n_informative=10, n_redundant=10, random_state=7)\n",
        "\n",
        "# define the pipeline\n",
        "steps = [('lle', LocallyLinearEmbedding(n_components=10)), ('m', LogisticRegression())]\n",
        "model = Pipeline(steps=steps)\n",
        "\n",
        "# evaluate model\n",
        "cv = RepeatedStratifiedKFold(n_splits=10, n_repeats=3, random_state=1)\n",
        "n_scores = cross_val_score(model, X, y, scoring='accuracy', cv=cv, n_jobs=-1)\n",
        "\n",
        "# report performance\n",
        "print('Accuracy: %.3f (%.3f)' % (mean(n_scores), std(n_scores)))"
      ],
      "metadata": {
        "colab": {
          "base_uri": "https://localhost:8080/"
        },
        "id": "fUfiZu79fOZ8",
        "outputId": "a130e57a-5ed6-460b-a9ce-fc5c3b47a026"
      },
      "execution_count": 149,
      "outputs": [
        {
          "output_type": "stream",
          "name": "stdout",
          "text": [
            "Accuracy: 0.886 (0.028)\n"
          ]
        }
      ]
    },
    {
      "cell_type": "code",
      "source": [
        "# LLE and logistic regression\n",
        "# the total variance explained by all components should be between 70% to 80% variance\n",
        "\n",
        "from sklearn.manifold import LocallyLinearEmbedding\n",
        "\n",
        "# define dataset\n",
        "\n",
        "X, y = make_classification(n_samples=1000, n_features=20, n_informative=10, n_redundant=10, random_state=7)\n",
        "\n",
        "# define the pipeline\n",
        "\n",
        "steps = [('lle', LocallyLinearEmbedding(n_components=5, method='modified', n_neighbors=10)), ('m', LogisticRegression())]\n",
        "model = Pipeline(steps=steps)\n",
        "\n",
        "# evaluate model\n",
        "\n",
        "cv = RepeatedStratifiedKFold(n_splits=10, n_repeats=3, random_state=1)\n",
        "n_scores = cross_val_score(model, X, y, scoring='accuracy', cv=cv, n_jobs=-1)\n",
        "\n",
        "# report performance\n",
        "\n",
        "print('Accuracy: %.3f (%.3f)' % (mean(n_scores), std(n_scores)))"
      ],
      "metadata": {
        "colab": {
          "base_uri": "https://localhost:8080/"
        },
        "id": "ui_qwN4Ifd8K",
        "outputId": "f73dd362-c715-462d-b7ee-b13d99072a4b"
      },
      "execution_count": 157,
      "outputs": [
        {
          "output_type": "stream",
          "name": "stdout",
          "text": [
            "Accuracy: 0.848 (0.037)\n"
          ]
        }
      ]
    },
    {
      "cell_type": "code",
      "source": [
        "# Hessian and logistic regression\n",
        "# the total variance explained by all components should be between 70% to 80% variance\n",
        "\n",
        "from sklearn.manifold import LocallyLinearEmbedding\n",
        "\n",
        "# define dataset\n",
        "X, y = make_classification(n_samples=1000, n_features=20, n_informative=10, n_redundant=10, random_state=7)\n",
        "\n",
        "# define the pipeline\n",
        "steps = [('hessian', LocallyLinearEmbedding(n_components=10)), ('m', LogisticRegression())]\n",
        "model = Pipeline(steps=steps)\n",
        "\n",
        "# evaluate model\n",
        "cv = RepeatedStratifiedKFold(n_splits=10, n_repeats=3, random_state=1)\n",
        "n_scores = cross_val_score(model, X, y, scoring='accuracy', cv=cv, n_jobs=-1)\n",
        "\n",
        "# report performance\n",
        "print('Accuracy: %.3f (%.3f)' % (mean(n_scores), std(n_scores)))"
      ],
      "metadata": {
        "id": "gLGiDvQXfeBB",
        "colab": {
          "base_uri": "https://localhost:8080/"
        },
        "outputId": "97652b1c-96a2-4892-bd10-adffbadf1c90"
      },
      "execution_count": 151,
      "outputs": [
        {
          "output_type": "stream",
          "name": "stdout",
          "text": [
            "Accuracy: 0.886 (0.028)\n"
          ]
        }
      ]
    },
    {
      "cell_type": "code",
      "source": [],
      "metadata": {
        "id": "uR5ZyvdFfeHR"
      },
      "execution_count": null,
      "outputs": []
    },
    {
      "cell_type": "code",
      "source": [],
      "metadata": {
        "id": "PPAiPdpXd-Pl"
      },
      "execution_count": null,
      "outputs": []
    }
  ]
}