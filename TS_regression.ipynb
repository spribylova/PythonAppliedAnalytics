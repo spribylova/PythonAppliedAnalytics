{
  "nbformat": 4,
  "nbformat_minor": 0,
  "metadata": {
    "colab": {
      "name": "TS_regression.ipynb",
      "provenance": [],
      "collapsed_sections": []
    },
    "kernelspec": {
      "name": "python3",
      "display_name": "Python 3"
    },
    "language_info": {
      "name": "python"
    }
  },
  "cells": [
    {
      "cell_type": "code",
      "execution_count": null,
      "metadata": {
        "id": "SH8-0HsSMo_T"
      },
      "outputs": [],
      "source": [
        "# https://machinelearningmastery.com/arima-for-time-series-forecasting-with-python/\n",
        "# AR - Autoregressive  Model\n",
        "# ARIMA - Autoregressive Integrated Moving Average Model ( integration - application one or more times to eliminate trend or non-stationarity of the mean function )\n",
        "# MA - Moving Average Model\n",
        "# ARMA - Autoregressive Moving Average Model\n",
        "# SARIMA - Seasonal Autoregressive Integrated Moving Average Model\n",
        "# CNN - Convolutional neural networks for classification and regression analysis of one-dimensional spectral data. \n",
        "# LSTM -  Long Short-Term Memory, a model initially proposed in 1997.\n",
        "# ResNet - Optimal deep residual regression model is built for nonliear regression. \n",
        "# VARMAX - The VARMAX class in statsmodels allows estimation of VAR, VMA, and VARMA models (through the order argument), optionally with a constant term (via the trend argument).\n"
      ]
    },
    {
      "cell_type": "code",
      "source": [
        "import numpy as np \n",
        "import pandas as pd \n",
        "import matplotlib.pyplot as plt\n",
        "import seaborn as sns\n",
        "from pandas.plotting import lag_plot\n",
        "from pandas import datetime\n",
        "from statsmodels.tsa.arima_model import ARIMA\n",
        "from sklearn.metrics import mean_squared_error"
      ],
      "metadata": {
        "colab": {
          "base_uri": "https://localhost:8080/"
        },
        "id": "TRTaWCafMwVo",
        "outputId": "6c7ea8a7-9453-4df5-8837-9548c44036e1"
      },
      "execution_count": 4,
      "outputs": [
        {
          "output_type": "stream",
          "name": "stderr",
          "text": [
            "/usr/local/lib/python3.7/dist-packages/ipykernel_launcher.py:6: FutureWarning: The pandas.datetime class is deprecated and will be removed from pandas in a future version. Import from datetime module instead.\n",
            "  \n"
          ]
        }
      ]
    },
    {
      "cell_type": "code",
      "source": [
        "df = pd.read_csv(\"BAER.SW.csv\")\n",
        "df.head(5)"
      ],
      "metadata": {
        "colab": {
          "base_uri": "https://localhost:8080/",
          "height": 204
        },
        "id": "9nGj4WVPRy6U",
        "outputId": "8b7a23f2-6d16-4a44-ed4b-5dec8231a24e"
      },
      "execution_count": 5,
      "outputs": [
        {
          "output_type": "execute_result",
          "data": {
            "text/plain": [
              "         Date       Open       High        Low      Close  Adj Close  Volume\n",
              "0  2017-05-16  52.799999  52.900002  52.099998  52.400002  42.967743  747145\n",
              "1  2017-05-17  52.150002  52.200001  50.750000  50.750000  41.614750  857545\n",
              "2  2017-05-18  50.599998  51.099998  50.049999  50.799999  41.655743  867912\n",
              "3  2017-05-19  51.049999  51.700001  50.849998  51.700001  42.393742  808367\n",
              "4  2017-05-22  51.750000  52.299999  51.049999  52.250000  42.844734  803134"
            ],
            "text/html": [
              "\n",
              "  <div id=\"df-0c710e3b-43a8-424b-b364-66a2acf35deb\">\n",
              "    <div class=\"colab-df-container\">\n",
              "      <div>\n",
              "<style scoped>\n",
              "    .dataframe tbody tr th:only-of-type {\n",
              "        vertical-align: middle;\n",
              "    }\n",
              "\n",
              "    .dataframe tbody tr th {\n",
              "        vertical-align: top;\n",
              "    }\n",
              "\n",
              "    .dataframe thead th {\n",
              "        text-align: right;\n",
              "    }\n",
              "</style>\n",
              "<table border=\"1\" class=\"dataframe\">\n",
              "  <thead>\n",
              "    <tr style=\"text-align: right;\">\n",
              "      <th></th>\n",
              "      <th>Date</th>\n",
              "      <th>Open</th>\n",
              "      <th>High</th>\n",
              "      <th>Low</th>\n",
              "      <th>Close</th>\n",
              "      <th>Adj Close</th>\n",
              "      <th>Volume</th>\n",
              "    </tr>\n",
              "  </thead>\n",
              "  <tbody>\n",
              "    <tr>\n",
              "      <th>0</th>\n",
              "      <td>2017-05-16</td>\n",
              "      <td>52.799999</td>\n",
              "      <td>52.900002</td>\n",
              "      <td>52.099998</td>\n",
              "      <td>52.400002</td>\n",
              "      <td>42.967743</td>\n",
              "      <td>747145</td>\n",
              "    </tr>\n",
              "    <tr>\n",
              "      <th>1</th>\n",
              "      <td>2017-05-17</td>\n",
              "      <td>52.150002</td>\n",
              "      <td>52.200001</td>\n",
              "      <td>50.750000</td>\n",
              "      <td>50.750000</td>\n",
              "      <td>41.614750</td>\n",
              "      <td>857545</td>\n",
              "    </tr>\n",
              "    <tr>\n",
              "      <th>2</th>\n",
              "      <td>2017-05-18</td>\n",
              "      <td>50.599998</td>\n",
              "      <td>51.099998</td>\n",
              "      <td>50.049999</td>\n",
              "      <td>50.799999</td>\n",
              "      <td>41.655743</td>\n",
              "      <td>867912</td>\n",
              "    </tr>\n",
              "    <tr>\n",
              "      <th>3</th>\n",
              "      <td>2017-05-19</td>\n",
              "      <td>51.049999</td>\n",
              "      <td>51.700001</td>\n",
              "      <td>50.849998</td>\n",
              "      <td>51.700001</td>\n",
              "      <td>42.393742</td>\n",
              "      <td>808367</td>\n",
              "    </tr>\n",
              "    <tr>\n",
              "      <th>4</th>\n",
              "      <td>2017-05-22</td>\n",
              "      <td>51.750000</td>\n",
              "      <td>52.299999</td>\n",
              "      <td>51.049999</td>\n",
              "      <td>52.250000</td>\n",
              "      <td>42.844734</td>\n",
              "      <td>803134</td>\n",
              "    </tr>\n",
              "  </tbody>\n",
              "</table>\n",
              "</div>\n",
              "      <button class=\"colab-df-convert\" onclick=\"convertToInteractive('df-0c710e3b-43a8-424b-b364-66a2acf35deb')\"\n",
              "              title=\"Convert this dataframe to an interactive table.\"\n",
              "              style=\"display:none;\">\n",
              "        \n",
              "  <svg xmlns=\"http://www.w3.org/2000/svg\" height=\"24px\"viewBox=\"0 0 24 24\"\n",
              "       width=\"24px\">\n",
              "    <path d=\"M0 0h24v24H0V0z\" fill=\"none\"/>\n",
              "    <path d=\"M18.56 5.44l.94 2.06.94-2.06 2.06-.94-2.06-.94-.94-2.06-.94 2.06-2.06.94zm-11 1L8.5 8.5l.94-2.06 2.06-.94-2.06-.94L8.5 2.5l-.94 2.06-2.06.94zm10 10l.94 2.06.94-2.06 2.06-.94-2.06-.94-.94-2.06-.94 2.06-2.06.94z\"/><path d=\"M17.41 7.96l-1.37-1.37c-.4-.4-.92-.59-1.43-.59-.52 0-1.04.2-1.43.59L10.3 9.45l-7.72 7.72c-.78.78-.78 2.05 0 2.83L4 21.41c.39.39.9.59 1.41.59.51 0 1.02-.2 1.41-.59l7.78-7.78 2.81-2.81c.8-.78.8-2.07 0-2.86zM5.41 20L4 18.59l7.72-7.72 1.47 1.35L5.41 20z\"/>\n",
              "  </svg>\n",
              "      </button>\n",
              "      \n",
              "  <style>\n",
              "    .colab-df-container {\n",
              "      display:flex;\n",
              "      flex-wrap:wrap;\n",
              "      gap: 12px;\n",
              "    }\n",
              "\n",
              "    .colab-df-convert {\n",
              "      background-color: #E8F0FE;\n",
              "      border: none;\n",
              "      border-radius: 50%;\n",
              "      cursor: pointer;\n",
              "      display: none;\n",
              "      fill: #1967D2;\n",
              "      height: 32px;\n",
              "      padding: 0 0 0 0;\n",
              "      width: 32px;\n",
              "    }\n",
              "\n",
              "    .colab-df-convert:hover {\n",
              "      background-color: #E2EBFA;\n",
              "      box-shadow: 0px 1px 2px rgba(60, 64, 67, 0.3), 0px 1px 3px 1px rgba(60, 64, 67, 0.15);\n",
              "      fill: #174EA6;\n",
              "    }\n",
              "\n",
              "    [theme=dark] .colab-df-convert {\n",
              "      background-color: #3B4455;\n",
              "      fill: #D2E3FC;\n",
              "    }\n",
              "\n",
              "    [theme=dark] .colab-df-convert:hover {\n",
              "      background-color: #434B5C;\n",
              "      box-shadow: 0px 1px 3px 1px rgba(0, 0, 0, 0.15);\n",
              "      filter: drop-shadow(0px 1px 2px rgba(0, 0, 0, 0.3));\n",
              "      fill: #FFFFFF;\n",
              "    }\n",
              "  </style>\n",
              "\n",
              "      <script>\n",
              "        const buttonEl =\n",
              "          document.querySelector('#df-0c710e3b-43a8-424b-b364-66a2acf35deb button.colab-df-convert');\n",
              "        buttonEl.style.display =\n",
              "          google.colab.kernel.accessAllowed ? 'block' : 'none';\n",
              "\n",
              "        async function convertToInteractive(key) {\n",
              "          const element = document.querySelector('#df-0c710e3b-43a8-424b-b364-66a2acf35deb');\n",
              "          const dataTable =\n",
              "            await google.colab.kernel.invokeFunction('convertToInteractive',\n",
              "                                                     [key], {});\n",
              "          if (!dataTable) return;\n",
              "\n",
              "          const docLinkHtml = 'Like what you see? Visit the ' +\n",
              "            '<a target=\"_blank\" href=https://colab.research.google.com/notebooks/data_table.ipynb>data table notebook</a>'\n",
              "            + ' to learn more about interactive tables.';\n",
              "          element.innerHTML = '';\n",
              "          dataTable['output_type'] = 'display_data';\n",
              "          await google.colab.output.renderOutput(dataTable, element);\n",
              "          const docLink = document.createElement('div');\n",
              "          docLink.innerHTML = docLinkHtml;\n",
              "          element.appendChild(docLink);\n",
              "        }\n",
              "      </script>\n",
              "    </div>\n",
              "  </div>\n",
              "  "
            ]
          },
          "metadata": {},
          "execution_count": 5
        }
      ]
    },
    {
      "cell_type": "code",
      "source": [
        "# A lag plot checks whether a data set or time series is random or not. \n",
        "# Random data should not exhibit any identifiable structure in the lag plot. \n",
        "plt.figure()\n",
        "lag_plot(df['Open'],lag=2 ,CMAP ='Greys', c='silver')\n",
        "plt.title('JB Stock - Autocorrelation plot with lag = 2')\n",
        "plt.show()"
      ],
      "metadata": {
        "colab": {
          "base_uri": "https://localhost:8080/",
          "height": 295
        },
        "id": "pQB7S9W-RzBy",
        "outputId": "e1424c2b-3c75-4d80-b44e-d02b44dd7248"
      },
      "execution_count": 7,
      "outputs": [
        {
          "output_type": "display_data",
          "data": {
            "text/plain": [
              "<Figure size 432x288 with 1 Axes>"
            ],
            "image/png": "[encoded data removed]"
          },
          "metadata": {
            "needs_background": "light"
          }
        }
      ]
    },
    {
      "cell_type": "code",
      "source": [
        "plt.plot(df[\"Date\"], df[\"Close\"], color='gainsboro')\n",
        "plt.xticks(np.arange(0,1259, 200), df['Date'][0:1259:200])# Set label locations /0 start, 1259 maximum, 200 steps/\n",
        "plt.title(\"JB stock price over time\")\n",
        "plt.xlabel(\"time\")\n",
        "plt.ylabel(\"price\")\n",
        "plt.show()"
      ],
      "metadata": {
        "colab": {
          "base_uri": "https://localhost:8080/",
          "height": 295
        },
        "id": "gU3ZQIl3RzGZ",
        "outputId": "13334af9-3514-41db-aac9-b35e6d96bbc4"
      },
      "execution_count": 9,
      "outputs": [
        {
          "output_type": "display_data",
          "data": {
            "text/plain": [
              "<Figure size 432x288 with 1 Axes>"
            ],
            "image/png": "[encoded data removed]"
          },
          "metadata": {
            "needs_background": "light"
          }
        }
      ]
    },
    {
      "cell_type": "code",
      "source": [
        "# divide the data into a training (70 % ) and test (30%) set\n",
        "# MSE 0.997 of the test set is large, this is the average squared value across all the test set predictions. \n",
        "# There is no correct value for MSE, the lower the value the better and 0 means the model is perfect.\n",
        "\n",
        "train_data, test_data = df[0:int(len(df)*0.7)], df[int(len(df)*0.7):]\n",
        "training_data = train_data['Close'].values\n",
        "test_data = test_data['Close'].values\n",
        "history = [x for x in training_data]\n",
        "model_predictions = []\n",
        "N_test_observations = len(test_data)\n",
        "\n",
        "# we can select ARIMA parameters: p=4, d=1 and q=0\n",
        "# p - number of lag observations\n",
        "# d - degree of differencing\n",
        "# q - size/width of the moving average window\n",
        "\n",
        "for time_point in range(N_test_observations):\n",
        "    model = ARIMA(history, order=(4,1,0))\n",
        "    model_fit = model.fit(disp=0)\n",
        "    output = model_fit.forecast()\n",
        "    yhat = output[0]\n",
        "    model_predictions.append(yhat)\n",
        "    true_test_value = test_data[time_point]\n",
        "    history.append(true_test_value)\n",
        "\n",
        "MSE_error = mean_squared_error(test_data, model_predictions)\n",
        "print('Testing Mean Squared Error is {}'.format(MSE_error))"
      ],
      "metadata": {
        "colab": {
          "base_uri": "https://localhost:8080/"
        },
        "id": "lbRmb6ezRzSF",
        "outputId": "9b0c8307-5bc7-4894-b500-9054abc2b29c"
      },
      "execution_count": 10,
      "outputs": [
        {
          "output_type": "stream",
          "name": "stdout",
          "text": [
            "Testing Mean Squared Error is 0.9973282862333076\n"
          ]
        }
      ]
    },
    {
      "cell_type": "code",
      "source": [
        "test_set_range = df[int(len(df)*0.7):].index\n",
        "plt.plot(test_set_range, model_predictions, color='lightgrey', marker='o', linestyle='dashed',label='Predicted Price')\n",
        "plt.plot(test_set_range, test_data, color='dimgrey', label='Actual Price')\n",
        "plt.title('JB Prices Prediction')\n",
        "plt.xlabel('Date')\n",
        "plt.ylabel('Prices')\n",
        "plt.xticks(np.arange(881,1259,50), df.Date[881:1259:50])\n",
        "plt.legend()\n",
        "plt.show()"
      ],
      "metadata": {
        "colab": {
          "base_uri": "https://localhost:8080/",
          "height": 295
        },
        "id": "jwn0hOKaRzUp",
        "outputId": "7138babc-e457-48ab-f62c-5c9661770727"
      },
      "execution_count": null,
      "outputs": [
        {
          "output_type": "display_data",
          "data": {
            "text/plain": [
              "<Figure size 432x288 with 1 Axes>"
            ],
            "image/png": "[encoded data removed]"
          },
          "metadata": {
            "needs_background": "light"
          }
        }
      ]
    },
    {
      "cell_type": "code",
      "source": [
        "# https://towardsdatascience.com/time-series-forecasting-predicting-stock-prices-using-an-arima-model-2e3b3080bd70\n",
        "# https://www.machinelearningplus.com/time-series/arima-model-time-series-forecasting-python/\n",
        "\n",
        "\n",
        "\n"
      ],
      "metadata": {
        "id": "iYK5OUgFRzXM"
      },
      "execution_count": null,
      "outputs": []
    }
  ]
}