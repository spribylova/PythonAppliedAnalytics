{
  "nbformat": 4,
  "nbformat_minor": 0,
  "metadata": {
    "colab": {
      "name": "While.ipynb",
      "provenance": [],
      "collapsed_sections": []
    },
    "kernelspec": {
      "name": "python3",
      "display_name": "Python 3"
    },
    "language_info": {
      "name": "python"
    }
  },
  "cells": [
    {
      "cell_type": "code",
      "source": [
        "# A - Probability of 3 divisor number"
      ],
      "metadata": {
        "id": "70zQ7hs-PufH"
      },
      "execution_count": null,
      "outputs": []
    },
    {
      "cell_type": "code",
      "source": [
        "n = 100\n",
        "m = n-1\n",
        "All_combinations = (m*n)/2"
      ],
      "metadata": {
        "id": "DYPdjou5SRPk"
      },
      "execution_count": 90,
      "outputs": []
    },
    {
      "cell_type": "code",
      "source": [
        "All_combinations"
      ],
      "metadata": {
        "colab": {
          "base_uri": "https://localhost:8080/"
        },
        "id": "x_ZSn3AWimwF",
        "outputId": "c1f3fb42-34b5-42dc-d12e-8c2c43faea69"
      },
      "execution_count": 94,
      "outputs": [
        {
          "output_type": "execute_result",
          "data": {
            "text/plain": [
              "4950.0"
            ]
          },
          "metadata": {},
          "execution_count": 94
        }
      ]
    },
    {
      "cell_type": "code",
      "source": [
        "def isPrime(n):\n",
        "    i = 2\n",
        "    while i * i <= n:\n",
        "        if n % i == 0:\n",
        "            return False  \n",
        "        i += 1\n",
        "    return True\n",
        "\n",
        "def numbersWith3Divisors(n):\n",
        "    #print(\"Numbers with 3 divisors : \")   \n",
        "    i = 2\n",
        "    while i * i <= n:\n",
        "        if (isPrime(i)):\n",
        "            if (i * i <= n):\n",
        "                print(i * i, end = \" \") \n",
        "        i += 1"
      ],
      "metadata": {
        "id": "AGGba8C_JuU_"
      },
      "execution_count": 41,
      "outputs": []
    },
    {
      "cell_type": "code",
      "source": [
        "results = numbersWith3Divisors(n)"
      ],
      "metadata": {
        "colab": {
          "base_uri": "https://localhost:8080/"
        },
        "id": "QupJL0A2aLKz",
        "outputId": "b9ce8f35-2f9c-492d-f4e5-58acde630a5a"
      },
      "execution_count": 86,
      "outputs": [
        {
          "output_type": "stream",
          "name": "stdout",
          "text": [
            "4 9 25 49 "
          ]
        }
      ]
    },
    {
      "cell_type": "code",
      "source": [
        "import numpy as np\n",
        "arr = np.array(results) "
      ],
      "metadata": {
        "id": "2xkpWjzebGZb"
      },
      "execution_count": 87,
      "outputs": []
    },
    {
      "cell_type": "code",
      "source": [
        "type(results)"
      ],
      "metadata": {
        "colab": {
          "base_uri": "https://localhost:8080/"
        },
        "id": "VsjQikW9dKww",
        "outputId": "91032061-0b75-4bc9-9aa1-9773c9d0f003"
      },
      "execution_count": 88,
      "outputs": [
        {
          "output_type": "execute_result",
          "data": {
            "text/plain": [
              "NoneType"
            ]
          },
          "metadata": {},
          "execution_count": 88
        }
      ]
    },
    {
      "cell_type": "code",
      "source": [
        "Required_combinations = 4"
      ],
      "metadata": {
        "id": "AeO7zcCkf2m0"
      },
      "execution_count": 89,
      "outputs": []
    },
    {
      "cell_type": "code",
      "source": [
        "Probability = Required_combinations / All_combinations"
      ],
      "metadata": {
        "id": "15EpP_1Lhg00"
      },
      "execution_count": 91,
      "outputs": []
    },
    {
      "cell_type": "code",
      "source": [
        "Probability*100"
      ],
      "metadata": {
        "colab": {
          "base_uri": "https://localhost:8080/"
        },
        "id": "bDQvUukKhhOU",
        "outputId": "4c4bc0ac-09d9-4eca-e10b-473f05833028"
      },
      "execution_count": 93,
      "outputs": [
        {
          "output_type": "execute_result",
          "data": {
            "text/plain": [
              "0.0808080808080808"
            ]
          },
          "metadata": {},
          "execution_count": 93
        }
      ]
    },
    {
      "cell_type": "code",
      "source": [
        "# B - pythagorean triples"
      ],
      "metadata": {
        "id": "lex3Uj8PNP1K"
      },
      "execution_count": null,
      "outputs": []
    },
    {
      "cell_type": "code",
      "execution_count": 3,
      "metadata": {
        "colab": {
          "base_uri": "https://localhost:8080/"
        },
        "id": "MRrgkqz-9Fju",
        "outputId": "6059622e-a8ac-4bed-9fa7-ce8c6f5c4dab"
      },
      "outputs": [
        {
          "output_type": "stream",
          "name": "stdout",
          "text": [
            "Enter upper limit:100\n",
            "3 4 5\n",
            "8 6 10\n",
            "5 12 13\n",
            "15 8 17\n",
            "12 16 20\n",
            "7 24 25\n",
            "24 10 26\n",
            "21 20 29\n",
            "16 30 34\n",
            "9 40 41\n",
            "35 12 37\n",
            "32 24 40\n",
            "27 36 45\n",
            "20 48 52\n",
            "11 60 61\n",
            "48 14 50\n",
            "45 28 53\n",
            "40 42 58\n",
            "33 56 65\n",
            "24 70 74\n",
            "13 84 85\n",
            "63 16 65\n",
            "60 32 68\n",
            "55 48 73\n",
            "48 64 80\n",
            "39 80 89\n",
            "28 96 100\n"
          ]
        }
      ],
      "source": [
        "limit=int(input(\"Enter upper limit:\"))\n",
        "c=0\n",
        "m=2\n",
        "while(c<limit):\n",
        "    for n in range(1,m+1):\n",
        "        a=m*m-n*n\n",
        "        b=2*m*n\n",
        "        c=m*m+n*n\n",
        "        if(c>limit):\n",
        "            break\n",
        "        if(a==0 or b==0 or c==0):\n",
        "            break\n",
        "        print(a,b,c)\n",
        "    m=m+1"
      ]
    }
  ]
}